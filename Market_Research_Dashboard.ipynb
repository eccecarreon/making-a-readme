{
  "nbformat": 4,
  "nbformat_minor": 0,
  "metadata": {
    "colab": {
      "provenance": [],
      "authorship_tag": "ABX9TyPPxRyTE/7osdYlzbZSyxFZ",
      "include_colab_link": true
    },
    "kernelspec": {
      "name": "python3",
      "display_name": "Python 3"
    },
    "language_info": {
      "name": "python"
    }
  },
  "cells": [
    {
      "cell_type": "markdown",
      "metadata": {
        "id": "view-in-github",
        "colab_type": "text"
      },
      "source": [
        "<a href=\"https://colab.research.google.com/github/eccecarreon/market-research-dashboard/blob/main/Market_Research_Dashboard.ipynb\" target=\"_parent\"><img src=\"https://colab.research.google.com/assets/colab-badge.svg\" alt=\"Open In Colab\"/></a>"
      ]
    },
    {
      "cell_type": "markdown",
      "source": [
        "# Project Title: Prediction of Product Sales\n",
        "\n",
        "- Author: Elleryn Christine Carreon\n"
      ],
      "metadata": {
        "id": "4-qwwAFYJW5E"
      }
    },
    {
      "cell_type": "markdown",
      "source": [
        "\n",
        "## Project Overview\n",
        "\n",
        ">> [ ]"
      ],
      "metadata": {
        "id": "xpCsLSbjJ3Xn"
      }
    },
    {
      "cell_type": "markdown",
      "source": [
        "## Clean Data\n",
        "\n",
        ">> [ ]"
      ],
      "metadata": {
        "id": "FqZb2TE9J43s"
      }
    },
    {
      "cell_type": "markdown",
      "source": [
        "## Exploratory Data Analysis\n",
        "\n",
        ">> [ ]"
      ],
      "metadata": {
        "id": "BVpXPMWUJ6js"
      }
    },
    {
      "cell_type": "markdown",
      "source": [
        "## Feature Inspection\n",
        "\n",
        ">> [ ]"
      ],
      "metadata": {
        "id": "fl-fJrKtJ7PD"
      }
    }
  ]
}
